{
 "cells": [
  {
   "cell_type": "code",
   "execution_count": 14,
   "id": "8d99e3ec",
   "metadata": {},
   "outputs": [
    {
     "name": "stdout",
     "output_type": "stream",
     "text": [
      "  state    numcol  yieldpercol   totalprod      stocks  priceperlb  \\\n",
      "0    AL   16000.0           71   1136000.0    159000.0        0.72   \n",
      "1    AZ   55000.0           60   3300000.0   1485000.0        0.64   \n",
      "2    AR   53000.0           65   3445000.0   1688000.0        0.59   \n",
      "3    CA  450000.0           83  37350000.0  12326000.0        0.62   \n",
      "4    CO   27000.0           72   1944000.0   1594000.0        0.70   \n",
      "\n",
      "    prodvalue  year  \n",
      "0    818000.0  1998  \n",
      "1   2112000.0  1998  \n",
      "2   2033000.0  1998  \n",
      "3  23157000.0  1998  \n",
      "4   1361000.0  1998  \n"
     ]
    }
   ],
   "source": [
    "\n",
    "import pandas as pd\n",
    "import matplotlib.pyplot as plt\n",
    "import numpy as np\n",
    "from sklearn import linear_model\n",
    "\n",
    "df = pd.read_csv(\"honeyproduction.csv\")\n",
    "\n",
    "print(df.head())\n"
   ]
  },
  {
   "cell_type": "code",
   "execution_count": 8,
   "id": "3186ebcf",
   "metadata": {},
   "outputs": [
    {
     "name": "stdout",
     "output_type": "stream",
     "text": [
      "[[1998]\n",
      " [1999]\n",
      " [2000]\n",
      " [2001]\n",
      " [2002]\n",
      " [2003]\n",
      " [2004]\n",
      " [2005]\n",
      " [2006]\n",
      " [2007]\n",
      " [2008]\n",
      " [2009]\n",
      " [2010]\n",
      " [2011]\n",
      " [2012]]\n"
     ]
    }
   ],
   "source": [
    "prod_per_year = df.groupby('year').totalprod.mean().reset_index()\n",
    "X = prod_per_year[\"year\"]\n",
    "y = prod_per_year[\"totalprod\"]\n",
    "X = X.values.reshape(-1, 1)\n",
    "print(X)\n",
    "\n"
   ]
  },
  {
   "cell_type": "code",
   "execution_count": 9,
   "id": "795875e6",
   "metadata": {},
   "outputs": [
    {
     "name": "stdout",
     "output_type": "stream",
     "text": [
      "-88303.18915238194\n",
      "181208083.1073298\n"
     ]
    }
   ],
   "source": [
    "regr = linear_model.LinearRegression()\n",
    "regr.fit(X,y)\n",
    "y_predict = regr.predict(X)\n",
    "print(regr.coef_[0])\n",
    "print(regr.intercept_)\n"
   ]
  },
  {
   "cell_type": "code",
   "execution_count": 12,
   "id": "e9fdb856",
   "metadata": {},
   "outputs": [
    {
     "name": "stdout",
     "output_type": "stream",
     "text": [
      "X:  [[2013]\n",
      " [2014]\n",
      " [2015]\n",
      " [2016]\n",
      " [2017]\n",
      " [2018]\n",
      " [2019]\n",
      " [2020]\n",
      " [2021]\n",
      " [2022]\n",
      " [2023]\n",
      " [2024]\n",
      " [2025]\n",
      " [2026]\n",
      " [2027]\n",
      " [2028]\n",
      " [2029]\n",
      " [2030]\n",
      " [2031]\n",
      " [2032]\n",
      " [2033]\n",
      " [2034]\n",
      " [2035]\n",
      " [2036]\n",
      " [2037]\n",
      " [2038]\n",
      " [2039]\n",
      " [2040]\n",
      " [2041]\n",
      " [2042]\n",
      " [2043]\n",
      " [2044]\n",
      " [2045]\n",
      " [2046]\n",
      " [2047]\n",
      " [2048]\n",
      " [2049]\n",
      " [2050]]\n",
      "y:  [4778311.18087068 4690007.99171829 4601704.8025659  4513401.61341354\n",
      " 4425098.42426115 4336795.23510876 4248492.04595637 4160188.85680401\n",
      " 4071885.66765162 3983582.47849923 3895279.28934684 3806976.10019448\n",
      " 3718672.91104209 3630369.7218897  3542066.53273734]\n"
     ]
    }
   ],
   "source": [
    "X_future = np.array(range(2013, 2051))\n",
    "X_future = X_future.reshape(-1, 1)\n",
    "print(\"X: \", X_future)\n",
    "future_predict = regr.predict(X_future)\n",
    "print(\"y: \", y_predict)\n"
   ]
  },
  {
   "cell_type": "code",
   "execution_count": 13,
   "id": "228ca4bf",
   "metadata": {},
   "outputs": [
    {
     "data": {
      "image/png": "[encoded data removed]",
      "text/plain": [
       "<Figure size 432x288 with 1 Axes>"
      ]
     },
     "metadata": {
      "needs_background": "light"
     },
     "output_type": "display_data"
    },
    {
     "data": {
      "image/png": "[encoded data removed]",
      "text/plain": [
       "<Figure size 432x288 with 1 Axes>"
      ]
     },
     "metadata": {
      "needs_background": "light"
     },
     "output_type": "display_data"
    }
   ],
   "source": [
    "\n",
    "\n",
    "plt.plot(X, y_predict)\n",
    "plt.scatter(X, y)\n",
    "plt.show()\n",
    "plt.plot(X_future, future_predict)\n",
    "plt.show()"
   ]
  },
  {
   "cell_type": "code",
   "execution_count": null,
   "id": "260ae001",
   "metadata": {},
   "outputs": [],
   "source": []
  }
 ],
 "metadata": {
  "kernelspec": {
   "display_name": "Python 3",
   "language": "python",
   "name": "python3"
  },
  "language_info": {
   "codemirror_mode": {
    "name": "ipython",
    "version": 3
   },
   "file_extension": ".py",
   "mimetype": "text/x-python",
   "name": "python",
   "nbconvert_exporter": "python",
   "pygments_lexer": "ipython3",
   "version": "3.8.8"
  }
 },
 "nbformat": 4,
 "nbformat_minor": 5
}
